{
 "cells": [
  {
   "cell_type": "code",
   "execution_count": 2,
   "id": "d882f5ab",
   "metadata": {},
   "outputs": [
    {
     "name": "stdout",
     "output_type": "stream",
     "text": [
      "<__main__.class4 object at 0x000001C8E8134580>\n"
     ]
    }
   ],
   "source": [
    "class class1:\n",
    "    def __init__(self, a1, a2, a3):\n",
    "        self.a1 = a1\n",
    "        self.a2 = a2\n",
    "        self.a3 = a3\n",
    "        \n",
    "    def m1(self):\n",
    "        return (\"class 1: \\n a1: \" + str(self.a1) + \"\\n \\t b1: \" + str(self.a2) +  \"\\n \\t c1: \" + str(self.a3))\n",
    "        \n",
    "class class2:\n",
    "    def __init__(self, b1, b2, b3):\n",
    "        self.b1 = b1\n",
    "        self.b2 = b2\n",
    "        self.b3 = b3\n",
    "        \n",
    "    def m2(self):\n",
    "        return (\"class 2: \\n \\t b1: \" + str(self.b1) + \"\\n \\t b2:\" + str(self.b2) + \"\\n \\t b3:\" + str(self.b3))\n",
    "        \n",
    "class class3:\n",
    "    def __init__(self,c1, c2, c3):\n",
    "        self.c1 = c1\n",
    "        self.c2 = c2\n",
    "        self.c3 = c3\n",
    "        \n",
    "    def m3(self):\n",
    "        return (\"class 3:\\n \\t c1: \" + str(self.c1) + \"\\n \\t c2:\" + str(self.c2) + \"\\n \\t c3:\" + str(self.c3))\n",
    "        \n",
    "class class4:\n",
    "    def __init__(self,d1, d2, d3):\n",
    "        self.d1 = d1\n",
    "        self.d2 = d2\n",
    "        self.d3 = d3\n",
    "        \n",
    "    def m4(self):\n",
    "        return (\"class 3:\\n \\t d1: \" + str(self.d1) + \"\\n \\t d2:\" + str(self.d2) + \"\\n \\t d3:\" + str(self.d3))\n",
    "\n",
    "a=class1(1,2,3)\n",
    "b=class2(4,5,6)\n",
    "c=class3(7,8,9)\n",
    "\n",
    "d=class4(a,b,c)\n",
    "\n",
    "d.m4()\n"
   ]
  },
  {
   "cell_type": "code",
   "execution_count": null,
   "id": "8bd63b52",
   "metadata": {},
   "outputs": [],
   "source": []
  }
 ],
 "metadata": {
  "kernelspec": {
   "display_name": "Python 3",
   "language": "python",
   "name": "python3"
  },
  "language_info": {
   "codemirror_mode": {
    "name": "ipython",
    "version": 3
   },
   "file_extension": ".py",
   "mimetype": "text/x-python",
   "name": "python",
   "nbconvert_exporter": "python",
   "pygments_lexer": "ipython3",
   "version": "3.8.8"
  }
 },
 "nbformat": 4,
 "nbformat_minor": 5
}
